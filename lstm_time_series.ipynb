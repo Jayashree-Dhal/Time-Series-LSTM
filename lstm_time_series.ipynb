{
  "nbformat": 4,
  "nbformat_minor": 0,
  "metadata": {
    "kernelspec": {
      "display_name": "Python 3",
      "language": "python",
      "name": "python3"
    },
    "language_info": {
      "codemirror_mode": {
        "name": "ipython",
        "version": 3
      },
      "file_extension": ".py",
      "mimetype": "text/x-python",
      "name": "python",
      "nbconvert_exporter": "python",
      "pygments_lexer": "ipython3",
      "version": "3.7.3"
    },
    "toc": {
      "base_numbering": 1,
      "nav_menu": {},
      "number_sections": true,
      "sideBar": true,
      "skip_h1_title": false,
      "title_cell": "Table of Contents",
      "title_sidebar": "Contents",
      "toc_cell": false,
      "toc_position": {},
      "toc_section_display": true,
      "toc_window_display": false
    },
    "colab": {
      "name": "lstm_time_series.ipynb",
      "provenance": []
    }
  },
  "cells": [
    {
      "cell_type": "code",
      "metadata": {
        "ExecuteTime": {
          "end_time": "2019-11-05T18:05:36.608204Z",
          "start_time": "2019-11-05T18:05:30.508274Z"
        },
        "id": "XdXBYKLCpxbv",
        "colab_type": "code",
        "colab": {},
        "outputId": "8597c6ef-353b-4ea5-d9b5-a97d1f0b317e"
      },
      "source": [
        "import pandas as pd\n",
        "import numpy as np\n",
        "import matplotlib.pyplot as plt\n",
        "import math\n",
        "from keras.models import Sequential\n",
        "from keras.layers import Dense,LSTM,Dropout\n",
        "from keras.callbacks import EarlyStopping\n",
        "from sklearn.preprocessing import MinMaxScaler\n",
        "from sklearn.metrics import mean_squared_error\n",
        "from sklearn.model_selection import train_test_split"
      ],
      "execution_count": null,
      "outputs": [
        {
          "output_type": "stream",
          "text": [
            "Using TensorFlow backend.\n"
          ],
          "name": "stderr"
        }
      ]
    },
    {
      "cell_type": "code",
      "metadata": {
        "ExecuteTime": {
          "end_time": "2019-11-05T18:05:37.348594Z",
          "start_time": "2019-11-05T18:05:37.341122Z"
        },
        "id": "XPUWnTFtpxb3",
        "colab_type": "code",
        "colab": {}
      },
      "source": [
        "np.random.seed(7)"
      ],
      "execution_count": null,
      "outputs": []
    },
    {
      "cell_type": "code",
      "metadata": {
        "ExecuteTime": {
          "end_time": "2019-11-05T18:05:37.732223Z",
          "start_time": "2019-11-05T18:05:37.728289Z"
        },
        "id": "xDjFjnhDpxb6",
        "colab_type": "code",
        "colab": {}
      },
      "source": [
        "path = 'airline-passengers.csv'"
      ],
      "execution_count": null,
      "outputs": []
    },
    {
      "cell_type": "code",
      "metadata": {
        "ExecuteTime": {
          "end_time": "2019-11-05T18:05:38.111116Z",
          "start_time": "2019-11-05T18:05:38.090778Z"
        },
        "id": "M11f6pgGpxb-",
        "colab_type": "code",
        "colab": {},
        "outputId": "6f31c7e0-0dfb-499b-a94d-a190d569fcf3"
      },
      "source": [
        "df = pd.read_csv(path)\n",
        "df.drop(columns='Month', inplace=True)\n",
        "df.head()"
      ],
      "execution_count": null,
      "outputs": [
        {
          "output_type": "execute_result",
          "data": {
            "text/html": [
              "<div>\n",
              "<style scoped>\n",
              "    .dataframe tbody tr th:only-of-type {\n",
              "        vertical-align: middle;\n",
              "    }\n",
              "\n",
              "    .dataframe tbody tr th {\n",
              "        vertical-align: top;\n",
              "    }\n",
              "\n",
              "    .dataframe thead th {\n",
              "        text-align: right;\n",
              "    }\n",
              "</style>\n",
              "<table border=\"1\" class=\"dataframe\">\n",
              "  <thead>\n",
              "    <tr style=\"text-align: right;\">\n",
              "      <th></th>\n",
              "      <th>Passengers</th>\n",
              "    </tr>\n",
              "  </thead>\n",
              "  <tbody>\n",
              "    <tr>\n",
              "      <td>0</td>\n",
              "      <td>112</td>\n",
              "    </tr>\n",
              "    <tr>\n",
              "      <td>1</td>\n",
              "      <td>118</td>\n",
              "    </tr>\n",
              "    <tr>\n",
              "      <td>2</td>\n",
              "      <td>132</td>\n",
              "    </tr>\n",
              "    <tr>\n",
              "      <td>3</td>\n",
              "      <td>129</td>\n",
              "    </tr>\n",
              "    <tr>\n",
              "      <td>4</td>\n",
              "      <td>121</td>\n",
              "    </tr>\n",
              "  </tbody>\n",
              "</table>\n",
              "</div>"
            ],
            "text/plain": [
              "   Passengers\n",
              "0         112\n",
              "1         118\n",
              "2         132\n",
              "3         129\n",
              "4         121"
            ]
          },
          "metadata": {
            "tags": []
          },
          "execution_count": 4
        }
      ]
    },
    {
      "cell_type": "code",
      "metadata": {
        "ExecuteTime": {
          "end_time": "2019-11-05T18:05:38.440646Z",
          "start_time": "2019-11-05T18:05:38.433680Z"
        },
        "id": "ehuSTi5CpxcD",
        "colab_type": "code",
        "colab": {}
      },
      "source": [
        "# df['lagged'] = df['Passengers'].shift(1)\n",
        "# df.plot(y = 'lagged', kind = 'line')"
      ],
      "execution_count": null,
      "outputs": []
    },
    {
      "cell_type": "code",
      "metadata": {
        "ExecuteTime": {
          "end_time": "2019-11-05T18:05:38.824033Z",
          "start_time": "2019-11-05T18:05:38.815578Z"
        },
        "id": "L3AvJwXSpxcI",
        "colab_type": "code",
        "colab": {},
        "outputId": "6b5503ee-63eb-4fcb-ff74-0f438f6e35c4"
      },
      "source": [
        "data = df.values.astype('float32')\n",
        "data[:5,]"
      ],
      "execution_count": null,
      "outputs": [
        {
          "output_type": "execute_result",
          "data": {
            "text/plain": [
              "array([[112.],\n",
              "       [118.],\n",
              "       [132.],\n",
              "       [129.],\n",
              "       [121.]], dtype=float32)"
            ]
          },
          "metadata": {
            "tags": []
          },
          "execution_count": 6
        }
      ]
    },
    {
      "cell_type": "code",
      "metadata": {
        "ExecuteTime": {
          "end_time": "2019-11-05T18:05:39.171498Z",
          "start_time": "2019-11-05T18:05:39.166569Z"
        },
        "id": "KHp8vJl3pxcN",
        "colab_type": "code",
        "colab": {}
      },
      "source": [
        "scaler = MinMaxScaler(feature_range=(0,1))"
      ],
      "execution_count": null,
      "outputs": []
    },
    {
      "cell_type": "code",
      "metadata": {
        "ExecuteTime": {
          "end_time": "2019-11-05T18:05:39.542454Z",
          "start_time": "2019-11-05T18:05:39.535479Z"
        },
        "id": "g4fpZH7fpxcT",
        "colab_type": "code",
        "colab": {},
        "outputId": "4fd42d1e-d6fb-471f-ae74-67a733d930ea"
      },
      "source": [
        "data = scaler.fit_transform(data)\n",
        "data[:5,]"
      ],
      "execution_count": null,
      "outputs": [
        {
          "output_type": "execute_result",
          "data": {
            "text/plain": [
              "array([[0.01544401],\n",
              "       [0.02702703],\n",
              "       [0.05405405],\n",
              "       [0.04826255],\n",
              "       [0.03281853]], dtype=float32)"
            ]
          },
          "metadata": {
            "tags": []
          },
          "execution_count": 8
        }
      ]
    },
    {
      "cell_type": "code",
      "metadata": {
        "ExecuteTime": {
          "end_time": "2019-11-05T18:05:39.931605Z",
          "start_time": "2019-11-05T18:05:39.922673Z"
        },
        "id": "CdjERSjMpxcY",
        "colab_type": "code",
        "colab": {},
        "outputId": "60dd9ba8-2da6-4d1e-a58b-34f242b6d0c0"
      },
      "source": [
        "train_size = int(len(data) * 0.67)\n",
        "test_size = len(data) - train_size\n",
        "train, test = data[0:train_size,:], data[train_size:len(data),:]\n",
        "train[:5,]"
      ],
      "execution_count": null,
      "outputs": [
        {
          "output_type": "execute_result",
          "data": {
            "text/plain": [
              "array([[0.01544401],\n",
              "       [0.02702703],\n",
              "       [0.05405405],\n",
              "       [0.04826255],\n",
              "       [0.03281853]], dtype=float32)"
            ]
          },
          "metadata": {
            "tags": []
          },
          "execution_count": 9
        }
      ]
    },
    {
      "cell_type": "code",
      "metadata": {
        "ExecuteTime": {
          "end_time": "2019-11-05T18:05:40.313317Z",
          "start_time": "2019-11-05T18:05:40.304389Z"
        },
        "id": "tpg7ouZxpxce",
        "colab_type": "code",
        "colab": {},
        "outputId": "16649893-a8c1-4534-c8a5-73ef60d90d9d"
      },
      "source": [
        "test[:5,]"
      ],
      "execution_count": null,
      "outputs": [
        {
          "output_type": "execute_result",
          "data": {
            "text/plain": [
              "array([[0.4073359 ],\n",
              "       [0.3803089 ],\n",
              "       [0.48648646],\n",
              "       [0.47104248],\n",
              "       [0.484556  ]], dtype=float32)"
            ]
          },
          "metadata": {
            "tags": []
          },
          "execution_count": 10
        }
      ]
    },
    {
      "cell_type": "code",
      "metadata": {
        "ExecuteTime": {
          "end_time": "2019-11-05T18:05:40.706773Z",
          "start_time": "2019-11-05T18:05:40.698837Z"
        },
        "id": "4RZNTcF-pxcl",
        "colab_type": "code",
        "colab": {}
      },
      "source": [
        "def generate_data(dataset,lag):\n",
        "    dataX, dataY=[], []\n",
        "    for i in range(len(dataset)-lag-1):\n",
        "        a=dataset[i:(i+lag), 0]\n",
        "        dataX.append(a)\n",
        "        dataY.append(dataset[i+lag,0])\n",
        "    return np.array(dataX), np.array(dataY)"
      ],
      "execution_count": null,
      "outputs": []
    },
    {
      "cell_type": "code",
      "metadata": {
        "ExecuteTime": {
          "end_time": "2019-11-05T18:05:41.111412Z",
          "start_time": "2019-11-05T18:05:41.104463Z"
        },
        "id": "cS4lvvGhpxcs",
        "colab_type": "code",
        "colab": {}
      },
      "source": [
        "lag=1\n",
        "trainX,trainY= generate_data(train, lag)\n",
        "testX,testY=generate_data(test, lag)"
      ],
      "execution_count": null,
      "outputs": []
    },
    {
      "cell_type": "code",
      "metadata": {
        "ExecuteTime": {
          "end_time": "2019-11-05T18:05:41.499276Z",
          "start_time": "2019-11-05T18:05:41.493789Z"
        },
        "id": "-DPubmIcpxcz",
        "colab_type": "code",
        "colab": {},
        "outputId": "69143910-146f-4d43-c602-b486b32af6b2"
      },
      "source": [
        "trainX[:5,]"
      ],
      "execution_count": null,
      "outputs": [
        {
          "output_type": "execute_result",
          "data": {
            "text/plain": [
              "array([[0.01544401],\n",
              "       [0.02702703],\n",
              "       [0.05405405],\n",
              "       [0.04826255],\n",
              "       [0.03281853]], dtype=float32)"
            ]
          },
          "metadata": {
            "tags": []
          },
          "execution_count": 13
        }
      ]
    },
    {
      "cell_type": "code",
      "metadata": {
        "ExecuteTime": {
          "end_time": "2019-11-05T18:05:41.885847Z",
          "start_time": "2019-11-05T18:05:41.877880Z"
        },
        "id": "0e6lsA7upxc6",
        "colab_type": "code",
        "colab": {},
        "outputId": "4bc8b595-a02d-4378-8858-d76f1c0147ff"
      },
      "source": [
        "trainY[:5,]"
      ],
      "execution_count": null,
      "outputs": [
        {
          "output_type": "execute_result",
          "data": {
            "text/plain": [
              "array([0.02702703, 0.05405405, 0.04826255, 0.03281853, 0.05984557],\n",
              "      dtype=float32)"
            ]
          },
          "metadata": {
            "tags": []
          },
          "execution_count": 14
        }
      ]
    },
    {
      "cell_type": "code",
      "metadata": {
        "ExecuteTime": {
          "end_time": "2019-11-05T18:05:42.288931Z",
          "start_time": "2019-11-05T18:05:42.281987Z"
        },
        "id": "eT9adTBhpxdZ",
        "colab_type": "code",
        "colab": {}
      },
      "source": [
        "trainX = np.reshape(trainX,(trainX.shape[0],1,trainX.shape[1]))\n",
        "testX = np.reshape(testX,(testX.shape[0],1,testX.shape[1]))"
      ],
      "execution_count": null,
      "outputs": []
    },
    {
      "cell_type": "code",
      "metadata": {
        "ExecuteTime": {
          "end_time": "2019-11-05T18:05:43.015652Z",
          "start_time": "2019-11-05T18:05:42.685590Z"
        },
        "id": "uO3Z9PFNpxdk",
        "colab_type": "code",
        "colab": {}
      },
      "source": [
        "model = Sequential()\n",
        "model.add(LSTM(100,input_shape=(1,lag)))\n",
        "model.add(Dense(1))"
      ],
      "execution_count": null,
      "outputs": []
    },
    {
      "cell_type": "code",
      "metadata": {
        "ExecuteTime": {
          "end_time": "2019-11-05T18:05:43.168913Z",
          "start_time": "2019-11-05T18:05:43.117295Z"
        },
        "id": "xj1famcUpxdt",
        "colab_type": "code",
        "colab": {}
      },
      "source": [
        "model.compile(loss='mean_squared_error',optimizer='adam')"
      ],
      "execution_count": null,
      "outputs": []
    },
    {
      "cell_type": "code",
      "metadata": {
        "ExecuteTime": {
          "end_time": "2019-11-05T18:06:04.144529Z",
          "start_time": "2019-11-05T18:05:44.719054Z"
        },
        "id": "Y_4ozD9Npxd2",
        "colab_type": "code",
        "colab": {},
        "outputId": "cb4cdd21-ae19-404d-89f8-f1337ebbe2e3"
      },
      "source": [
        "history = model.fit(trainX,trainY,epochs=50,validation_data=(testX, testY),\n",
        "                    callbacks=[EarlyStopping(monitor='val_loss', patience=30)],batch_size=1,verbose=2)"
      ],
      "execution_count": null,
      "outputs": [
        {
          "output_type": "stream",
          "text": [
            "WARNING:tensorflow:From C:\\Users\\91828\\Anaconda3\\lib\\site-packages\\keras\\backend\\tensorflow_backend.py:422: The name tf.global_variables is deprecated. Please use tf.compat.v1.global_variables instead.\n",
            "\n",
            "Train on 94 samples, validate on 46 samples\n",
            "Epoch 1/50\n",
            " - 1s - loss: 0.0265 - val_loss: 0.1119\n",
            "Epoch 2/50\n",
            " - 0s - loss: 0.0107 - val_loss: 0.0709\n",
            "Epoch 3/50\n",
            " - 1s - loss: 0.0078 - val_loss: 0.0516\n",
            "Epoch 4/50\n",
            " - 0s - loss: 0.0050 - val_loss: 0.0302\n",
            "Epoch 5/50\n",
            " - 1s - loss: 0.0034 - val_loss: 0.0119\n",
            "Epoch 6/50\n",
            " - 0s - loss: 0.0025 - val_loss: 0.0103\n",
            "Epoch 7/50\n",
            " - 0s - loss: 0.0022 - val_loss: 0.0089\n",
            "Epoch 8/50\n",
            " - 0s - loss: 0.0022 - val_loss: 0.0092\n",
            "Epoch 9/50\n",
            " - 0s - loss: 0.0021 - val_loss: 0.0094\n",
            "Epoch 10/50\n",
            " - 0s - loss: 0.0021 - val_loss: 0.0097\n",
            "Epoch 11/50\n",
            " - 0s - loss: 0.0024 - val_loss: 0.0093\n",
            "Epoch 12/50\n",
            " - 0s - loss: 0.0021 - val_loss: 0.0093\n",
            "Epoch 13/50\n",
            " - 0s - loss: 0.0023 - val_loss: 0.0091\n",
            "Epoch 14/50\n",
            " - 0s - loss: 0.0023 - val_loss: 0.0094\n",
            "Epoch 15/50\n",
            " - 0s - loss: 0.0022 - val_loss: 0.0093\n",
            "Epoch 16/50\n",
            " - 0s - loss: 0.0021 - val_loss: 0.0092\n",
            "Epoch 17/50\n",
            " - 0s - loss: 0.0022 - val_loss: 0.0093\n",
            "Epoch 18/50\n",
            " - 1s - loss: 0.0022 - val_loss: 0.0094\n",
            "Epoch 19/50\n",
            " - 1s - loss: 0.0022 - val_loss: 0.0094\n",
            "Epoch 20/50\n",
            " - 0s - loss: 0.0021 - val_loss: 0.0090\n",
            "Epoch 21/50\n",
            " - 0s - loss: 0.0021 - val_loss: 0.0107\n",
            "Epoch 22/50\n",
            " - 0s - loss: 0.0020 - val_loss: 0.0092\n",
            "Epoch 23/50\n",
            " - 0s - loss: 0.0021 - val_loss: 0.0092\n",
            "Epoch 24/50\n",
            " - 0s - loss: 0.0023 - val_loss: 0.0097\n",
            "Epoch 25/50\n",
            " - 0s - loss: 0.0021 - val_loss: 0.0098\n",
            "Epoch 26/50\n",
            " - 0s - loss: 0.0022 - val_loss: 0.0100\n",
            "Epoch 27/50\n",
            " - 0s - loss: 0.0021 - val_loss: 0.0091\n",
            "Epoch 28/50\n",
            " - 1s - loss: 0.0023 - val_loss: 0.0099\n",
            "Epoch 29/50\n",
            " - 1s - loss: 0.0023 - val_loss: 0.0103\n",
            "Epoch 30/50\n",
            " - 0s - loss: 0.0021 - val_loss: 0.0100\n",
            "Epoch 31/50\n",
            " - 0s - loss: 0.0022 - val_loss: 0.0089\n",
            "Epoch 32/50\n",
            " - 0s - loss: 0.0021 - val_loss: 0.0090\n",
            "Epoch 33/50\n",
            " - 0s - loss: 0.0020 - val_loss: 0.0103\n",
            "Epoch 34/50\n",
            " - 0s - loss: 0.0023 - val_loss: 0.0095\n",
            "Epoch 35/50\n",
            " - 0s - loss: 0.0021 - val_loss: 0.0092\n",
            "Epoch 36/50\n",
            " - 0s - loss: 0.0020 - val_loss: 0.0094\n",
            "Epoch 37/50\n",
            " - 1s - loss: 0.0021 - val_loss: 0.0091\n"
          ],
          "name": "stdout"
        }
      ]
    },
    {
      "cell_type": "code",
      "metadata": {
        "ExecuteTime": {
          "end_time": "2019-11-05T18:06:08.194638Z",
          "start_time": "2019-11-05T18:06:08.039777Z"
        },
        "id": "6JYAsoX8pxeE",
        "colab_type": "code",
        "colab": {}
      },
      "source": [
        "trainPredict=model.predict(trainX)\n",
        "testPredict=model.predict(testX)"
      ],
      "execution_count": null,
      "outputs": []
    },
    {
      "cell_type": "code",
      "metadata": {
        "ExecuteTime": {
          "end_time": "2019-11-05T18:06:08.880752Z",
          "start_time": "2019-11-05T18:06:08.873777Z"
        },
        "id": "AgrBAqL_pxeO",
        "colab_type": "code",
        "colab": {}
      },
      "source": [
        "trainPredict=scaler.inverse_transform(trainPredict)\n",
        "trainY=scaler.inverse_transform([trainY])\n",
        "testPredict=scaler.inverse_transform(testPredict)\n",
        "testY=scaler.inverse_transform([testY])"
      ],
      "execution_count": null,
      "outputs": []
    },
    {
      "cell_type": "code",
      "metadata": {
        "ExecuteTime": {
          "end_time": "2019-11-05T18:06:09.804381Z",
          "start_time": "2019-11-05T18:06:09.798428Z"
        },
        "id": "1kbwCgvXpxeW",
        "colab_type": "code",
        "colab": {},
        "outputId": "22257952-5990-4af6-8724-0ee370801020"
      },
      "source": [
        "trainScore = math.sqrt(mean_squared_error(trainY[0],trainPredict[:,0]))\n",
        "print('Train Score: %.2f RMSE' %(trainScore))\n",
        "testScore = math.sqrt(mean_squared_error(testY[0],testPredict[:,0]))\n",
        "print('Test Score: %.2f RMSE' %(testScore))"
      ],
      "execution_count": null,
      "outputs": [
        {
          "output_type": "stream",
          "text": [
            "Train Score: 23.29 RMSE\n",
            "Test Score: 49.47 RMSE\n"
          ],
          "name": "stdout"
        }
      ]
    },
    {
      "cell_type": "code",
      "metadata": {
        "ExecuteTime": {
          "end_time": "2019-11-05T18:06:11.240588Z",
          "start_time": "2019-11-05T18:06:11.235593Z"
        },
        "id": "lTINcs7Mpxef",
        "colab_type": "code",
        "colab": {}
      },
      "source": [
        "trainPredictPlot = np.empty_like(data)\n",
        "trainPredictPlot[:,:] = np.nan\n",
        "trainPredictPlot[lag:len(trainPredict)+lag,:] = trainPredict"
      ],
      "execution_count": null,
      "outputs": []
    },
    {
      "cell_type": "code",
      "metadata": {
        "ExecuteTime": {
          "end_time": "2019-11-05T18:06:12.808602Z",
          "start_time": "2019-11-05T18:06:12.800698Z"
        },
        "id": "Q6IIiYogpxek",
        "colab_type": "code",
        "colab": {}
      },
      "source": [
        "testPredictPlot = np.empty_like(data)\n",
        "testPredictPlot[:,:] = np.nan\n",
        "testPredictPlot[len(trainPredict)+lag*2 + 1 : len(data)-1,:] = testPredict"
      ],
      "execution_count": null,
      "outputs": []
    },
    {
      "cell_type": "code",
      "metadata": {
        "ExecuteTime": {
          "end_time": "2019-11-05T18:06:13.751352Z",
          "start_time": "2019-11-05T18:06:13.579370Z"
        },
        "id": "Fwfsi7fWpxep",
        "colab_type": "code",
        "colab": {},
        "outputId": "3b3f7fe5-b350-4437-c265-7fd03836bc02"
      },
      "source": [
        "plt.plot(scaler.inverse_transform(data))\n",
        "plt.plot(trainPredictPlot)\n",
        "plt.plot(testPredictPlot)\n",
        "plt.show()"
      ],
      "execution_count": null,
      "outputs": [
        {
          "output_type": "display_data",
          "data": {
            "image/png": "[encoded data removed]",
            "text/plain": [
              "<Figure size 432x288 with 1 Axes>"
            ]
          },
          "metadata": {
            "tags": [],
            "needs_background": "light"
          }
        }
      ]
    },
    {
      "cell_type": "code",
      "metadata": {
        "ExecuteTime": {
          "end_time": "2019-11-05T18:06:15.405703Z",
          "start_time": "2019-11-05T18:06:15.216694Z"
        },
        "id": "meAcFiVlpxeu",
        "colab_type": "code",
        "colab": {},
        "outputId": "b8db7d8a-e2ac-4ee3-d13b-4b233b04177b"
      },
      "source": [
        "plt.figure(figsize=(8,4))\n",
        "plt.plot(history.history['loss'], label='Train Loss')\n",
        "plt.plot(history.history['val_loss'], label='Test Loss')\n",
        "plt.title('model loss')\n",
        "plt.ylabel('loss')\n",
        "plt.xlabel('epochs')\n",
        "plt.legend(loc='upper right')\n",
        "plt.show();"
      ],
      "execution_count": null,
      "outputs": [
        {
          "output_type": "display_data",
          "data": {
            "image/png": "[encoded data removed]",
            "text/plain": [
              "<Figure size 576x288 with 1 Axes>"
            ]
          },
          "metadata": {
            "tags": [],
            "needs_background": "light"
          }
        }
      ]
    },
    {
      "cell_type": "code",
      "metadata": {
        "id": "IbpKuvP1pxez",
        "colab_type": "code",
        "colab": {}
      },
      "source": [
        ""
      ],
      "execution_count": null,
      "outputs": []
    }
  ]
}